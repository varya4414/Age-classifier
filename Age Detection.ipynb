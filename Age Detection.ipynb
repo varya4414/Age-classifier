{
  "nbformat": 4,
  "nbformat_minor": 0,
  "metadata": {
    "colab": {
      "name": "Copy of pro.ipynb",
      "provenance": [],
      "collapsed_sections": [],
      "machine_shape": "hm",
      "include_colab_link": true
    },
    "kernelspec": {
      "name": "python3",
      "display_name": "Python 3"
    },
    "accelerator": "TPU"
  },
  "cells": [
    {
      "cell_type": "markdown",
      "metadata": {
        "id": "view-in-github",
        "colab_type": "text"
      },
      "source": [
        "<a href=\"https://colab.research.google.com/github/varya4414/Age-classifier/blob/master/Age%20Detection.ipynb\" target=\"_parent\"><img src=\"https://colab.research.google.com/assets/colab-badge.svg\" alt=\"Open In Colab\"/></a>"
      ]
    },
    {
      "cell_type": "code",
      "metadata": {
        "id": "dFkByE1cN4mA",
        "colab_type": "code",
        "outputId": "5096e965-d20b-4cfa-8e9f-22b74bec01a0",
        "colab": {
          "base_uri": "https://localhost:8080/",
          "height": 122
        }
      },
      "source": [
        "from google.colab import drive\n",
        "drive.mount('/content/drive')"
      ],
      "execution_count": 0,
      "outputs": [
        {
          "output_type": "stream",
          "text": [
            "Go to this URL in a browser: https://accounts.google.com/o/oauth2/auth?client_id=947318989803-6bn6qk8qdgf4n4g3pfee6491hc0brc4i.apps.googleusercontent.com&redirect_uri=urn%3aietf%3awg%3aoauth%3a2.0%3aoob&response_type=code&scope=email%20https%3a%2f%2fwww.googleapis.com%2fauth%2fdocs.test%20https%3a%2f%2fwww.googleapis.com%2fauth%2fdrive%20https%3a%2f%2fwww.googleapis.com%2fauth%2fdrive.photos.readonly%20https%3a%2f%2fwww.googleapis.com%2fauth%2fpeopleapi.readonly\n",
            "\n",
            "Enter your authorization code:\n",
            "··········\n",
            "Mounted at /content/drive\n"
          ],
          "name": "stdout"
        }
      ]
    },
    {
      "cell_type": "code",
      "metadata": {
        "id": "a3MFO25ON5Qv",
        "colab_type": "code",
        "outputId": "b6babecb-76e9-47cc-afaa-0c61a1015a37",
        "colab": {
          "base_uri": "https://localhost:8080/",
          "height": 34
        }
      },
      "source": [
        "import os\n",
        "import random\n",
        "import numpy as np\n",
        "import matplotlib.pyplot as plt\n",
        "import pandas as pd\n",
        "from keras import layers\n",
        "from keras.layers import Input, Dense, Activation,  BatchNormalization, Flatten, Conv2D\n",
        "from keras.layers import  MaxPooling2D, Dropout\n",
        "%matplotlib inline\n"
      ],
      "execution_count": 0,
      "outputs": [
        {
          "output_type": "stream",
          "text": [
            "Using TensorFlow backend.\n"
          ],
          "name": "stderr"
        }
      ]
    },
    {
      "cell_type": "code",
      "metadata": {
        "id": "wftaunqYOIkl",
        "colab_type": "code",
        "outputId": "e753f317-c32a-4c2d-997e-96c75e9e5b97",
        "colab": {
          "base_uri": "https://localhost:8080/",
          "height": 34
        }
      },
      "source": [
        "import cv2\n",
        "train_label = pd.read_csv(os.path.join('/content/drive/My Drive/Age_detection/train_DETg9GD/train.csv'))\n",
        "train_label.shape"
      ],
      "execution_count": 0,
      "outputs": [
        {
          "output_type": "execute_result",
          "data": {
            "text/plain": [
              "(19906, 2)"
            ]
          },
          "metadata": {
            "tags": []
          },
          "execution_count": 3
        }
      ]
    },
    {
      "cell_type": "markdown",
      "metadata": {
        "id": "nyZH4hs4AQx-",
        "colab_type": "text"
      },
      "source": [
        ""
      ]
    },
    {
      "cell_type": "code",
      "metadata": {
        "id": "3WjtBiQg83P_",
        "colab_type": "code",
        "colab": {}
      },
      "source": [
        "from keras.preprocessing import image\n",
        "gen = image.ImageDataGenerator(rotation_range = 10, width_shift_range = 0.15, shear_range = 0.25,\n",
        "                               height_shift_range = 0.15, zoom_range = 0.2, horizontal_flip = True)"
      ],
      "execution_count": 0,
      "outputs": []
    },
    {
      "cell_type": "code",
      "metadata": {
        "id": "omEBtVyyREU1",
        "colab_type": "code",
        "colab": {}
      },
      "source": [
        "temp1=[]\n",
        "temp=[]\n",
        "i=0\n",
        "for img_name in train_label.ID:\n",
        "  img_path=os.path.join('/content/drive/My Drive/Age_detection/train_DETg9GD/Train', img_name)\n",
        "  image = np.expand_dims(cv2.imread(img_path),0)\n",
        "  aug_img = gen.flow(image)\n",
        "  for j in range(10):\n",
        "    img1  = (next(aug_img)[0].astype(\"float64\"))\n",
        "    temp.append(cv2.resize(img1,(32,32)))\n",
        "    temp1.append(train_label.Class[i])\n",
        "  i+=1\n",
        "  if i%100==0:\n",
        "    print(img1.shape,i)"
      ],
      "execution_count": 0,
      "outputs": []
    },
    {
      "cell_type": "code",
      "metadata": {
        "id": "gzANFNtLg3cR",
        "colab_type": "code",
        "colab": {}
      },
      "source": [
        "train_x = np.stack(temp)\n",
        "train_label = np.stack(temp1)"
      ],
      "execution_count": 0,
      "outputs": []
    },
    {
      "cell_type": "code",
      "metadata": {
        "id": "LCJz35rPYzFD",
        "colab_type": "code",
        "colab": {}
      },
      "source": [
        "# train_x.to_csv('/content/drive/My Drive/Age_detection/train_x.csv',index=0)\n",
        "np.save(\"/content/drive/My Drive/Age_detection/train_x\", train_x)"
      ],
      "execution_count": 0,
      "outputs": []
    },
    {
      "cell_type": "code",
      "metadata": {
        "id": "TRwVcLAfcqL1",
        "colab_type": "code",
        "colab": {}
      },
      "source": [
        "import cv2\n",
        "train_x1 = np.load(\"/content/drive/My Drive/Age_detection/train_x.npy\")\n",
        "temp=[]\n",
        "for img in train_x1:\n",
        "  img = cv2.resize(img,(32,32))\n",
        "  temp.append(img)"
      ],
      "execution_count": 0,
      "outputs": []
    },
    {
      "cell_type": "code",
      "metadata": {
        "id": "KaLdkWKCy-1H",
        "colab_type": "code",
        "colab": {}
      },
      "source": [
        "train_x=np.stack(temp)"
      ],
      "execution_count": 0,
      "outputs": []
    },
    {
      "cell_type": "code",
      "metadata": {
        "id": "z7oHMHxHc0KD",
        "colab_type": "code",
        "outputId": "fb4467c3-3115-4ed5-907a-d6f5f2e3b5d0",
        "colab": {
          "base_uri": "https://localhost:8080/",
          "height": 34
        }
      },
      "source": [
        "train_x.shape"
      ],
      "execution_count": 0,
      "outputs": [
        {
          "output_type": "execute_result",
          "data": {
            "text/plain": [
              "(199060, 32, 32, 3)"
            ]
          },
          "metadata": {
            "tags": []
          },
          "execution_count": 12
        }
      ]
    },
    {
      "cell_type": "code",
      "metadata": {
        "id": "UtGGVHCcVLYh",
        "colab_type": "code",
        "colab": {}
      },
      "source": [
        "from random import randrange\n",
        "temp=[]\n",
        "temp1=[]\n",
        "old=0\n",
        "young=0\n",
        "middle=0\n",
        "vis1=[0]*len(train_label)\n",
        "vis=np.array(vis1)\n",
        "for x in range(100000):\n",
        "  i = randrange(len(train_label))\n",
        "  if(vis[i]==0):\n",
        "    if(train_label[i]==\"YOUNG\" and young<10000):\n",
        "      temp.append(train_x[i])\n",
        "      temp1.append(\"YOUNG\")\n",
        "      young+=1\n",
        "    if(train_label[i]==\"OLD\" and old<10000):\n",
        "      temp.append(train_x[i])\n",
        "      temp1.append(\"OLD\")\n",
        "      old+=1\n",
        "    if(train_label[i]==\"MIDDLE\" and middle<10000):\n",
        "      temp.append(train_x[i])\n",
        "      temp1.append(\"MIDDLE\")\n",
        "      middle+=1\n",
        "    vis[i]=1\n"
      ],
      "execution_count": 0,
      "outputs": []
    },
    {
      "cell_type": "code",
      "metadata": {
        "id": "L_YdTCmZcMoS",
        "colab_type": "code",
        "colab": {}
      },
      "source": [
        "train_label1=np.stack(temp1)\n",
        "train_x1=np.stack(temp)"
      ],
      "execution_count": 0,
      "outputs": []
    },
    {
      "cell_type": "code",
      "metadata": {
        "id": "1qnysiMZcv9B",
        "colab_type": "code",
        "outputId": "455f61be-31d3-4074-a2a2-3152dbeedbe3",
        "colab": {
          "base_uri": "https://localhost:8080/",
          "height": 34
        }
      },
      "source": [
        "train_label1.shape"
      ],
      "execution_count": 0,
      "outputs": [
        {
          "output_type": "execute_result",
          "data": {
            "text/plain": [
              "(29557,)"
            ]
          },
          "metadata": {
            "tags": []
          },
          "execution_count": 15
        }
      ]
    },
    {
      "cell_type": "code",
      "metadata": {
        "id": "KPaZu43Xc0UD",
        "colab_type": "code",
        "outputId": "f021d19c-8438-4eca-d1da-f903fafd6749",
        "colab": {
          "base_uri": "https://localhost:8080/",
          "height": 68
        }
      },
      "source": [
        "print(\"old\" ,old)\n",
        "print(\"young = \" , young)\n",
        "print(\"middle= \", middle)\n"
      ],
      "execution_count": 0,
      "outputs": [
        {
          "output_type": "stream",
          "text": [
            "old 9557\n",
            "young =  10000\n",
            "middle=  10000\n"
          ],
          "name": "stdout"
        }
      ]
    },
    {
      "cell_type": "code",
      "metadata": {
        "id": "44HuFB363AWq",
        "colab_type": "code",
        "colab": {}
      },
      "source": [
        "from sklearn.model_selection import train_test_split\n",
        "X_train, X_test, y_train, y_test = train_test_split(train_x1, train_label1, test_size=0.15, random_state=1)\n",
        "X_train=X_train/255\n",
        "X_test=X_test/255"
      ],
      "execution_count": 0,
      "outputs": []
    },
    {
      "cell_type": "code",
      "metadata": {
        "id": "l5KaTV277Oaw",
        "colab_type": "code",
        "outputId": "d1a1854e-4c9d-4ca7-86e3-c43d4d05c4bb",
        "colab": {
          "base_uri": "https://localhost:8080/",
          "height": 34
        }
      },
      "source": [
        "y_train.shape"
      ],
      "execution_count": 0,
      "outputs": [
        {
          "output_type": "execute_result",
          "data": {
            "text/plain": [
              "(25123,)"
            ]
          },
          "metadata": {
            "tags": []
          },
          "execution_count": 18
        }
      ]
    },
    {
      "cell_type": "code",
      "metadata": {
        "id": "JYBCZJoRwEVf",
        "colab_type": "code",
        "outputId": "37905e3b-bd20-44df-bb89-1440673acf5e",
        "colab": {
          "base_uri": "https://localhost:8080/",
          "height": 283
        }
      },
      "source": [
        "from random import randrange\n",
        "index=randrange(len(X_train))\n",
        "plt.imshow(X_train[index])\n",
        "y_train[index]"
      ],
      "execution_count": 0,
      "outputs": [
        {
          "output_type": "execute_result",
          "data": {
            "text/plain": [
              "'OLD'"
            ]
          },
          "metadata": {
            "tags": []
          },
          "execution_count": 19
        },
        {
          "output_type": "display_data",
          "data": {
            "image/png": "[encoded data removed]",
            "text/plain": [
              "<Figure size 432x288 with 1 Axes>"
            ]
          },
          "metadata": {
            "tags": []
          }
        }
      ]
    },
    {
      "cell_type": "code",
      "metadata": {
        "id": "Tjzy4nBKxhPO",
        "colab_type": "code",
        "colab": {}
      },
      "source": [
        "import keras\n",
        "from sklearn.preprocessing import LabelEncoder\n",
        "lb = LabelEncoder()\n",
        "train_y = lb.fit_transform(y_train)\n",
        "test_y = lb.fit_transform(y_test)\n",
        "y_train = keras.utils.np_utils.to_categorical(train_y)\n",
        "y_test=   keras.utils.np_utils.to_categorical(test_y)"
      ],
      "execution_count": 0,
      "outputs": []
    },
    {
      "cell_type": "code",
      "metadata": {
        "id": "Obo9cTkhzolq",
        "colab_type": "code",
        "outputId": "f112947f-e10b-4693-f53d-ffbd00669a3e",
        "colab": {
          "base_uri": "https://localhost:8080/",
          "height": 34
        }
      },
      "source": [
        "X_test.shape\n"
      ],
      "execution_count": 0,
      "outputs": [
        {
          "output_type": "execute_result",
          "data": {
            "text/plain": [
              "(4434, 32, 32, 3)"
            ]
          },
          "metadata": {
            "tags": []
          },
          "execution_count": 21
        }
      ]
    },
    {
      "cell_type": "code",
      "metadata": {
        "id": "Vmds_kcL0f9_",
        "colab_type": "code",
        "outputId": "3061355b-7ab5-4041-db4b-b81d8791956e",
        "colab": {
          "base_uri": "https://localhost:8080/",
          "height": 34
        }
      },
      "source": [
        "X_train.shape"
      ],
      "execution_count": 0,
      "outputs": [
        {
          "output_type": "execute_result",
          "data": {
            "text/plain": [
              "(25123, 32, 32, 3)"
            ]
          },
          "metadata": {
            "tags": []
          },
          "execution_count": 22
        }
      ]
    },
    {
      "cell_type": "code",
      "metadata": {
        "id": "KBlPjs2sOE7A",
        "colab_type": "code",
        "colab": {}
      },
      "source": [
        "# HSV Image\n",
        "import cv2\n",
        "def RGB2HSV(img):\n",
        "  img=cv2.cvtColor(img,cv2.COLOR_BGR2HSV)\n",
        "  return img\n"
      ],
      "execution_count": 0,
      "outputs": []
    },
    {
      "cell_type": "code",
      "metadata": {
        "id": "nOr5AS-1ZJLd",
        "colab_type": "code",
        "colab": {}
      },
      "source": [
        "# Gray Scale\n",
        "import cv2\n",
        "def RGB2Gray(img):\n",
        "  img=cv2.cvtColor(img,cv2.COLOR_BGR2GRAY)\n",
        "  img=np.reshape(img,(128,128,1))\n",
        "  return img"
      ],
      "execution_count": 0,
      "outputs": []
    },
    {
      "cell_type": "code",
      "metadata": {
        "id": "YhrV92E8O8rW",
        "colab_type": "code",
        "colab": {}
      },
      "source": [
        "#HSV Image\n",
        "HSVX1_train=[];\n",
        "for img in X_train:\n",
        "  HSVX1_train.append(RGB2HSV(img))\n",
        "HSVX_train=np.stack(HSVX1_train)"
      ],
      "execution_count": 0,
      "outputs": []
    },
    {
      "cell_type": "code",
      "metadata": {
        "id": "lgFOpeNDZVEF",
        "colab_type": "code",
        "colab": {}
      },
      "source": [
        "# Gray Scale\n",
        "GrayX1_train=[];\n",
        "for img in X_train:\n",
        "  GrayX1_train.append(RGB2Gray(img))\n",
        "GrayX_train=np.stack(GrayX1_train)"
      ],
      "execution_count": 0,
      "outputs": []
    },
    {
      "cell_type": "code",
      "metadata": {
        "id": "ud7n7SrQ_HCL",
        "colab_type": "code",
        "colab": {}
      },
      "source": [
        "GrayX1_test=[];\n",
        "for img in X_test:\n",
        "  GrayX1_test.append(RGB2Gray(img))\n",
        "GrayX_test=np.stack(GrayX1_test)"
      ],
      "execution_count": 0,
      "outputs": []
    },
    {
      "cell_type": "code",
      "metadata": {
        "id": "K8QqBHdoAE5C",
        "colab_type": "code",
        "outputId": "9787a2f9-c231-4728-e3ce-aa2cbc69505d",
        "colab": {
          "base_uri": "https://localhost:8080/",
          "height": 663
        }
      },
      "source": [
        "from keras.models import Sequential\n",
        "classifier=Sequential()\n",
        "classifier.add(Conv2D(32,(5,5),input_shape=(32,32,3),strides=1,activation='relu'))\n",
        "#classifier.add(Conv2D(32,(5,5),padding = \"same\",activation='relu'))\n",
        "classifier.add(BatchNormalization())\n",
        "classifier.add(MaxPooling2D())\n",
        "\n",
        "classifier.add(Conv2D(64,(3,3), activation='relu'))\n",
        "classifier.add(BatchNormalization())\n",
        "classifier.add(Conv2D(128,(3,3), padding = \"same\" , activation='relu'))\n",
        "classifier.add(BatchNormalization())\n",
        "classifier.add(MaxPooling2D())\n",
        "\n",
        "classifier.add(Conv2D(128,(5,5), activation='relu'))\n",
        "classifier.add(BatchNormalization())\n",
        "\n",
        "# classifier.add(Conv2D(64,(3,3),activation='relu'))\n",
        "# classifier.add(Conv2D(64,(5,5), padding = \"same\" , activation='relu'))\n",
        "# classifier.add(MaxPooling2D(padding=\"same\"))\n",
        "\n",
        "# classifier.add(Conv2D(64,(3,3),activation='relu'))\n",
        "# classifier.add(Conv2D(128,(5,5), padding = \"same\" , activation='relu'))\n",
        "# classifier.add(BatchNormalization())\n",
        "# classifier.add(MaxPooling2D(padding=\"same\"))\n",
        "\n",
        "# classifier.add(Conv2D(128,(3,3),activation='relu'))\n",
        "# classifier.add(BatchNormalization())\n",
        "# classifier.add(MaxPooling2D(padding=\"same\"))\n",
        "\n",
        "# classifier.add(Conv2D(128,(3,3),activation='relu'))\n",
        "# classifier.add(BatchNormalization())\n",
        "# classifier.add(MaxPooling2D())\n",
        "\n",
        "classifier.add(Flatten())\n",
        "Dropout(0.3)\n",
        "# classifier.add(Dense(units = 1000, activation = 'relu'))\n",
        "\n",
        "\n",
        "classifier.add(Dense(units = 200, activation = 'relu'))\n",
        "Dropout(0.3)\n",
        "classifier.add(Dense(units = 100, activation = 'relu'))\n",
        "Dropout(0.2)\n",
        "classifier.add(Dense(units = 50, activation = 'relu'))\n",
        "Dropout(0.2)\n",
        "classifier.add(Dense(units = 3 , activation = 'softmax'))\n",
        "classifier.summary()"
      ],
      "execution_count": 0,
      "outputs": [
        {
          "output_type": "stream",
          "text": [
            "Model: \"sequential_3\"\n",
            "_________________________________________________________________\n",
            "Layer (type)                 Output Shape              Param #   \n",
            "=================================================================\n",
            "conv2d_9 (Conv2D)            (None, 28, 28, 32)        2432      \n",
            "_________________________________________________________________\n",
            "batch_normalization_9 (Batch (None, 28, 28, 32)        128       \n",
            "_________________________________________________________________\n",
            "max_pooling2d_5 (MaxPooling2 (None, 14, 14, 32)        0         \n",
            "_________________________________________________________________\n",
            "conv2d_10 (Conv2D)           (None, 12, 12, 64)        18496     \n",
            "_________________________________________________________________\n",
            "batch_normalization_10 (Batc (None, 12, 12, 64)        256       \n",
            "_________________________________________________________________\n",
            "conv2d_11 (Conv2D)           (None, 12, 12, 128)       73856     \n",
            "_________________________________________________________________\n",
            "batch_normalization_11 (Batc (None, 12, 12, 128)       512       \n",
            "_________________________________________________________________\n",
            "max_pooling2d_6 (MaxPooling2 (None, 6, 6, 128)         0         \n",
            "_________________________________________________________________\n",
            "conv2d_12 (Conv2D)           (None, 2, 2, 128)         409728    \n",
            "_________________________________________________________________\n",
            "batch_normalization_12 (Batc (None, 2, 2, 128)         512       \n",
            "_________________________________________________________________\n",
            "flatten_3 (Flatten)          (None, 512)               0         \n",
            "_________________________________________________________________\n",
            "dense_9 (Dense)              (None, 200)               102600    \n",
            "_________________________________________________________________\n",
            "dense_10 (Dense)             (None, 100)               20100     \n",
            "_________________________________________________________________\n",
            "dense_11 (Dense)             (None, 50)                5050      \n",
            "_________________________________________________________________\n",
            "dense_12 (Dense)             (None, 3)                 153       \n",
            "=================================================================\n",
            "Total params: 633,823\n",
            "Trainable params: 633,119\n",
            "Non-trainable params: 704\n",
            "_________________________________________________________________\n"
          ],
          "name": "stdout"
        }
      ]
    },
    {
      "cell_type": "code",
      "metadata": {
        "id": "YMx5EUagQi3e",
        "colab_type": "code",
        "outputId": "9737a2fe-e872-437c-c7d3-c866571052ee",
        "colab": {
          "base_uri": "https://localhost:8080/",
          "height": 374
        }
      },
      "source": [
        "classifier.compile(optimizer = 'adam', loss = 'categorical_crossentropy', metrics = ['accuracy'])\n",
        "classifier.fit(X_train,y_train,epochs=10,batch_size=64)"
      ],
      "execution_count": 0,
      "outputs": [
        {
          "output_type": "stream",
          "text": [
            "Epoch 1/10\n",
            "25123/25123 [==============================] - 17s 691us/step - loss: 0.9121 - acc: 0.5710\n",
            "Epoch 2/10\n",
            "25123/25123 [==============================] - 16s 621us/step - loss: 0.7792 - acc: 0.6567\n",
            "Epoch 3/10\n",
            "25123/25123 [==============================] - 16s 630us/step - loss: 0.6996 - acc: 0.7011\n",
            "Epoch 4/10\n",
            "25123/25123 [==============================] - 16s 657us/step - loss: 0.6374 - acc: 0.7324\n",
            "Epoch 5/10\n",
            "25123/25123 [==============================] - 16s 619us/step - loss: 0.5710 - acc: 0.7609\n",
            "Epoch 6/10\n",
            "25123/25123 [==============================] - 16s 620us/step - loss: 0.5036 - acc: 0.7968\n",
            "Epoch 7/10\n",
            "25123/25123 [==============================] - 16s 627us/step - loss: 0.4355 - acc: 0.8251\n",
            "Epoch 8/10\n",
            "25123/25123 [==============================] - 16s 624us/step - loss: 0.3675 - acc: 0.8540\n",
            "Epoch 9/10\n",
            "25123/25123 [==============================] - 16s 627us/step - loss: 0.3042 - acc: 0.8778\n",
            "Epoch 10/10\n",
            "25123/25123 [==============================] - 16s 641us/step - loss: 0.2448 - acc: 0.9033\n"
          ],
          "name": "stdout"
        },
        {
          "output_type": "execute_result",
          "data": {
            "text/plain": [
              "<keras.callbacks.History at 0x7ff4a86b93c8>"
            ]
          },
          "metadata": {
            "tags": []
          },
          "execution_count": 34
        }
      ]
    },
    {
      "cell_type": "code",
      "metadata": {
        "id": "wmkRVTmMSIQt",
        "colab_type": "code",
        "colab": {}
      },
      "source": [
        "test_prediction_tree=classifier.predict(X_test)  "
      ],
      "execution_count": 0,
      "outputs": []
    },
    {
      "cell_type": "code",
      "metadata": {
        "id": "J38nCqp7WmPt",
        "colab_type": "code",
        "colab": {}
      },
      "source": [
        "for i in range(len(test_prediction_tree)):\n",
        "  if(test_prediction_tree[i][0]==test_prediction_tree[i][1]==test_prediction_tree[i][2]):\n",
        "    test_prediction_tree[i][0]=1\n",
        "    test_prediction_tree[i][1]=0\n",
        "    test_prediction_tree[i][2]=0\n",
        "  elif(test_prediction_tree[i][0]==test_prediction_tree[i][1]):\n",
        "    if(test_prediction_tree[i][2]>test_prediction_tree[i][1]):\n",
        "      test_prediction_tree[i][2]=1;\n",
        "      test_prediction_tree[i][0]=0;\n",
        "      test_prediction_tree[i][1]=0;\n",
        "    else :\n",
        "      test_prediction_tree[i][0]=1\n",
        "      test_prediction_tree[i][1]=0\n",
        "      test_prediction_tree[i][2]=0\n",
        "  elif(test_prediction_tree[i][1]==test_prediction_tree[i][2]):\n",
        "    if(test_prediction_tree[i][0]>test_prediction_tree[i][1]):\n",
        "      test_prediction_tree[i][2]=0;\n",
        "      test_prediction_tree[i][0]=1;\n",
        "      test_prediction_tree[i][1]=0;\n",
        "    else :\n",
        "      test_prediction_tree[i][0]=0\n",
        "      test_prediction_tree[i][1]=1\n",
        "      test_prediction_tree[i][2]=0\n",
        "  elif(test_prediction_tree[i][0]==test_prediction_tree[i][2]):\n",
        "    if(test_prediction_tree[i][0]>test_prediction_tree[i][1]):\n",
        "      test_prediction_tree[i][2]=0;\n",
        "      test_prediction_tree[i][0]=1;\n",
        "      test_prediction_tree[i][1]=0;\n",
        "    else :\n",
        "      test_prediction_tree[i][0]=0\n",
        "      test_prediction_tree[i][1]=1\n",
        "      test_prediction_tree[i][2]=0\n",
        "  else :\n",
        "    if(max(test_prediction_tree[i][0],test_prediction_tree[i][1],test_prediction_tree[i][2])==test_prediction_tree[i][0]):\n",
        "      test_prediction_tree[i][0]=1\n",
        "      test_prediction_tree[i][1]=0\n",
        "      test_prediction_tree[i][2]=0\n",
        "    elif(max(test_prediction_tree[i][0],test_prediction_tree[i][1],test_prediction_tree[i][2])==test_prediction_tree[i][1]):\n",
        "      test_prediction_tree[i][0]=0\n",
        "      test_prediction_tree[i][1]=1\n",
        "      test_prediction_tree[i][2]=0\n",
        "    else :\n",
        "      test_prediction_tree[i][0]=0\n",
        "      test_prediction_tree[i][1]=0\n",
        "      test_prediction_tree[i][2]=1"
      ],
      "execution_count": 0,
      "outputs": []
    },
    {
      "cell_type": "code",
      "metadata": {
        "id": "jLvHXV0EVeEu",
        "colab_type": "code",
        "outputId": "3896f2cf-aff5-43a9-9a1c-91a265662a78",
        "colab": {
          "base_uri": "https://localhost:8080/",
          "height": 34
        }
      },
      "source": [
        "count=0;\n",
        "for x in range(len(y_test)):\n",
        "  if(y_test[x][0]==test_prediction_tree[x][0] and y_test[x][1]==test_prediction_tree[x][1] and y_test[x][2]==test_prediction_tree[x][2]):\n",
        "    count+=1\n",
        "count/len(y_test)"
      ],
      "execution_count": 0,
      "outputs": [
        {
          "output_type": "execute_result",
          "data": {
            "text/plain": [
              "0.7568786648624267"
            ]
          },
          "metadata": {
            "tags": []
          },
          "execution_count": 37
        }
      ]
    },
    {
      "cell_type": "code",
      "metadata": {
        "id": "A9aDxbEKtPVE",
        "colab_type": "code",
        "colab": {}
      },
      "source": [
        ""
      ],
      "execution_count": 0,
      "outputs": []
    }
  ]
}